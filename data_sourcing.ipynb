{
 "cells": [
  {
   "cell_type": "code",
   "execution_count": 48,
   "metadata": {},
   "outputs": [],
   "source": [
    "import pandas as pd\n",
    "#libraries to connect to API\n",
    "import json\n",
    "import requests\n",
    "pd.options.display.max_rows = 100"
   ]
  },
  {
   "cell_type": "code",
   "execution_count": 49,
   "metadata": {},
   "outputs": [],
   "source": [
    "#function to load API Key locally stored\n",
    "def get_keys(path):\n",
    "    with open(path) as f:\n",
    "        return json.load(f)"
   ]
  },
  {
   "cell_type": "markdown",
   "metadata": {},
   "source": [
    "## US CENSUS BUREAU API"
   ]
  },
  {
   "cell_type": "markdown",
   "metadata": {},
   "source": [
    "I used the US Census Bureau API to extract several variables for my study. \n",
    "\n",
    "API Key request: https://api.census.gov/data/key_signup.html\n",
    "\n",
    "I extracted the data from the **American Community Survey 5 Year Data (2009-2018)**. This survey covers topics about social, economic, demographic and housing characteristics of the U.S. population. There are over 20,000 variables in this dataset, but not many of the variables are available down to the county-level. \n",
    "\n",
    "**ACS 5-Year:** https://www.census.gov/data/developers/data-sets/acs-5year.html\n",
    "\n",
    "\n",
    "From the Technical Documentation, I used the Table List to find table IDs and the Table Shells to get the Unique ID to the exact variables I wanted to include in the study. https://www.census.gov/programs-surveys/acs/technical-documentation/table-shells.html?#  -AND-  https://api.census.gov/data/2018/acs/acs5/variables.html\n",
    "\n",
    "I added an \"E\" at the end of each variable ID to retrieve the \"estimate\" value of the variable. Also, I divided my API requests in groups < 50 variables since the US Census API has that restriction (you will get an error message if you include more than 50 variables).\n"
   ]
  },
  {
   "cell_type": "code",
   "execution_count": 50,
   "metadata": {},
   "outputs": [],
   "source": [
    "#import API Key from local directory\n",
    "#API keys are sensitive and should not be hard coded to your notebook\n",
    "keys = get_keys(\"/Users/franc/.secret/USCensus.json\")\n",
    "api_key = keys['api_key'] "
   ]
  },
  {
   "cell_type": "code",
   "execution_count": 51,
   "metadata": {},
   "outputs": [],
   "source": [
    "variable_list1 = (\n",
    "                    'B01002_002E,B01002_003E,B08301_002E,B08301_010E,B08301_016E,'\n",
    "                    'B08301_017E,B08301_018E,B08301_019E,B08301_020E,B08301_021E,B08303_001E,B08303_002E,'\n",
    "                    'B08303_003E,B08303_004E,B08303_005E,B08303_006E,B08303_007E,B08303_008E,B08303_009E,'\n",
    "                    'B08303_010E,B08303_011E,B08303_012E,B08303_013E,B09002_001E,B11001_001E,B11001_003E,'\n",
    "                    'B11001_005E,B11001_006E,B11001_008E,B11001_009E,B11017_002E,B12001_002E,B12001_003E,B12001_004E,'\n",
    "                    'B12001_009E,B12001_010E,B12001_011E,B12001_012E,B12001_013E,B12001_018E,B12001_019E'\n",
    "                )\n",
    "\n",
    "variable_list2 = (\n",
    "                    'B12007_001E,B12007_002E,B12504_002E,'\n",
    "                    'B12504_006E,B13016_002E,B15002_003E,B15002_011E,'\n",
    "                    'B15002_015E,B15002_016E,B15002_018E,B15002_020E,B15002_028E,B15002_032E,B15002_033E,'\n",
    "                    'B15002_035E,B17001_001E,B17001_031E,B17001_002E,B19013_001E,B19058_001E,B19058_002E,'\n",
    "                    'B19083_001E,B19301_001E,B23020_002E,B23020_003E,B23025_001E,B23025_004E,B25001_001E,B25003_002E,'\n",
    "                    'B25003_003E,B25018_001E,B25058_001E,B25105_001E,B28010_007E,B28011_008E'\n",
    "                ) "
   ]
  },
  {
   "cell_type": "code",
   "execution_count": 52,
   "metadata": {},
   "outputs": [],
   "source": [
    "url = 'https://api.census.gov/data/2018/acs/acs1.json?get=NAME,'+ variable_list1 +'&for=county:*'\n",
    "headers = {\n",
    "        'Authorization': 'Bearer {}'.format(api_key),}\n",
    "response = requests.get(url, headers=headers).json() #convert data to a json format\n",
    "ACS_data1 = pd.DataFrame(response)\n",
    "\n",
    "url = 'https://api.census.gov/data/2018/acs/acs1.json?get=NAME,'+ variable_list2 +'&for=county:*'\n",
    "headers = {\n",
    "        'Authorization': 'Bearer {}'.format(api_key),}\n",
    "response = requests.get(url, headers=headers).json() #convert data to a json format\n",
    "ACS_data2 = pd.DataFrame(response)\n",
    "\n",
    "##DATA/TABLE FORMATTING##\n",
    "ACS_data1.columns = ACS_data1.iloc[0] #take column headers from row0\n",
    "ACS_data2.columns = ACS_data2.iloc[0] #take column headers from row0\n",
    "ACS_data1.drop(ACS_data1.index[0], inplace=True) #drop row 0\n",
    "ACS_data2.drop(ACS_data2.index[0], inplace=True) #drop row 0\n",
    "ACS_alldata = ACS_data1.merge(ACS_data2, how='left', on=['NAME','state','county']) #Merge data into a single table\n",
    "ACS_alldata.drop(labels=['state', 'county'], inplace=True, axis=1) #drop unnecessary columns\n",
    "\n",
    "countyname = ACS_alldata['NAME'].str.split(', ', expand=True) #Split name column by comma\n",
    "ACS_alldata['county'] = countyname[0]\n",
    "ACS_alldata['state_name'] = countyname[1]\n",
    "ACS_alldata.loc[ACS_alldata['county'].str.contains('county|County|Parish|parish'),'county'] = ACS_alldata['county'].str[:-7] #remove the word \"county\" from county column\n",
    "\n",
    "ACS_alldata = ACS_alldata.assign(newcounty=ACS_alldata['county'].str.replace('.', '')) #remove '.' from county names if any\n",
    "ACS_alldata.drop(labels=['county'], inplace=True, axis=1)\n",
    "ACS_alldata.rename(columns={'newcounty': \"county\"}, inplace=True)\n",
    "\n",
    "rowstodrop = ACS_alldata.loc[ACS_alldata['state_name'].isin(['Puerto Rico', 'Alaska', 'Hawaii'])] #exclude from the study\n",
    "ACS_alldata = ACS_alldata.drop(rowstodrop.index) #exclude from the study\n",
    "\n",
    "ACS_alldata.loc[ACS_alldata['county'] == \"Doña Ana\",'county'] = 'DONA ANA' #for consistency across sources\n",
    "ACS_alldata['county'] = ACS_alldata['county'].apply(lambda x: x.upper()) #make all county names upper case for consistency"
   ]
  },
  {
   "cell_type": "markdown",
   "metadata": {},
   "source": [
    "When you download data from the US Census Bureau API, the columns come with the variable ID rather than with a column name/description. I prepared a csv file with Variable ID and Column Name to assign an \"appropriate\" column name to each variable. "
   ]
  },
  {
   "cell_type": "code",
   "execution_count": 53,
   "metadata": {},
   "outputs": [],
   "source": [
    "ACS_headers = pd.read_csv(\"DATA/ACSNew_headers.csv\") #file with new column names\n",
    "ACS_headers.set_index('Old_header', inplace=True)\n",
    "header_dict = ACS_headers.to_dict('dict') #create a dict with new column names\n",
    "ACS_alldata.rename(columns=header_dict['New_header'], inplace=True)"
   ]
  },
  {
   "cell_type": "code",
   "execution_count": 54,
   "metadata": {
    "collapsed": true
   },
   "outputs": [
    {
     "data": {
      "text/plain": [
       "0\n",
       "NAME                                                                                    0\n",
       "median age male                                                                         0\n",
       "median age female                                                                       0\n",
       "means of transportation to work: car, truck, or van                                   451\n",
       "means of transportation to work: public transportation (excluding taxicab)            451\n",
       "means of transportation to work: taxicab                                              451\n",
       "means of transportation to work: motorcycle                                           451\n",
       "means of transportation to work: bicycle                                              451\n",
       "means of transportation to work: walked                                               451\n",
       "means of transportation to work: other means                                          451\n",
       "means of transportation to work: worked at home                                       451\n",
       "total travel time to work                                                               0\n",
       "travel time to work: less than 5 minutes                                                0\n",
       "travel time to work: 5 to 9 minutes                                                     0\n",
       "travel time to work: 10 to 14 minutes                                                   0\n",
       "travel time to work: 15 to 19 minutes                                                   0\n",
       "travel time to work: 20 to 24 minutes                                                   0\n",
       "travel time to work: 25 to 29 minutes                                                   0\n",
       "travel time to work: 30 to 34 minutes                                                   0\n",
       "travel time to work: 35 to 39 minutes                                                   0\n",
       "travel time to work: 40 to 44 minutes                                                   0\n",
       "travel time to work: 45 to 59 minutes                                                   0\n",
       "travel time to work: 60 to 89 minutes                                                   0\n",
       "travel time to work: 90 or more minutes                                                 0\n",
       "own children under 18 years by family type and age                                     16\n",
       "total household type                                                                    0\n",
       "household type: married-couple family                                                   0\n",
       "household type: male householder, no wife present                                       0\n",
       "household type: female householder, no husband present                                  0\n",
       "household type: householder living alone                                                0\n",
       "household type: householder not living alone                                            0\n",
       "multigenerational households                                                          820\n",
       "total male over 15years                                                                 0\n",
       "male never married                                                                      0\n",
       "male now married                                                                        0\n",
       "male widowed                                                                            0\n",
       "male divorced                                                                           0\n",
       "total female over 15 years                                                              0\n",
       "female never married                                                                    0\n",
       "female now married                                                                      0\n",
       "female widowed                                                                          0\n",
       "female divorced                                                                         0\n",
       "median age at first marriage male                                                     820\n",
       "median age at first marriage female                                                   820\n",
       "median duration of current marriage in years male                                     820\n",
       "median duration of current marriage in years female                                   820\n",
       "women who had a birth in the past 12 months                                             0\n",
       "male no schooling completed                                                             0\n",
       "male high school graduate (includes equivalency)                                        0\n",
       "male bachelor's degree                                                                  0\n",
       "male master's degree                                                                    0\n",
       "male doctorate degree                                                                   0\n",
       "female no schooling completed                                                           0\n",
       "female high school graduate (includes equivalency)                                      0\n",
       "female bachelor's degree                                                                0\n",
       "female master's degree                                                                  0\n",
       "female doctorate degree                                                                 0\n",
       "total income in the past 12 months                                                      0\n",
       "total income in the past 12 months at or above poverty level                            0\n",
       "total income in the past 12 months below poverty level                                  0\n",
       "median household income in the past 12 months (in 2018 inflation-adjusted dollars)      0\n",
       "total household in the past 12 months with/without public assist or stamps              0\n",
       "household with cash public assistance or food stamps/snap in the past year              0\n",
       "gini index                                                                              0\n",
       "per capita income in the past 12 months (in 2018 inflation-adjusted dollars)            0\n",
       "mean usual hours worked male                                                           60\n",
       "mean usual hours worked female                                                         60\n",
       "total employment status 16 and over                                                     0\n",
       "employed population 16 years and over                                                   0\n",
       "housing units                                                                           0\n",
       "housing tenure owner occupied                                                           0\n",
       "housing tenure renter occupied                                                          0\n",
       "median number of rooms                                                                  0\n",
       "median contract rent                                                                    0\n",
       "median monthly housing costs                                                            0\n",
       "no household computer                                                                   0\n",
       "no household internet access                                                            0\n",
       "state_name                                                                              0\n",
       "county                                                                                  0\n",
       "dtype: int64"
      ]
     },
     "execution_count": 54,
     "metadata": {},
     "output_type": "execute_result"
    }
   ],
   "source": [
    "ACS_alldata.isna().sum() #Check the number of NaNs in each column"
   ]
  },
  {
   "cell_type": "code",
   "execution_count": 55,
   "metadata": {},
   "outputs": [],
   "source": [
    "#drop columns with over 50% missing data\n",
    "NaNColumns = ['means of transportation to work: car, truck, or van', 'means of transportation to work: public transportation (excluding taxicab)', \n",
    "              'means of transportation to work: taxicab', 'means of transportation to work: motorcycle', 'means of transportation to work: bicycle',\n",
    "              'means of transportation to work: walked', 'means of transportation to work: other means', 'means of transportation to work: worked at home',\n",
    "              'multigenerational households', 'median age at first marriage male', 'median age at first marriage female', 'median duration of current marriage in years male',\n",
    "              'median duration of current marriage in years female', ]\n",
    "ACS_alldata.drop(labels=NaNColumns, inplace=True, axis=1) #drop columns with over 50% missing data\n",
    "\n",
    "#Assign median state value to missing fields \n",
    "null_indexes = ACS_alldata.loc[ACS_alldata['own children under 18 years by family type and age'].isnull()].index\n",
    "for i, indx in enumerate(null_indexes):\n",
    "    children = ACS_alldata[ACS_alldata['state_name'] == ACS_alldata.loc[indx]['state_name']]['own children under 18 years by family type and age'].median()\n",
    "    ACS_alldata.at[indx, 'own children under 18 years by family type and age'] = children\n",
    "\n",
    "null_indexes = ACS_alldata.loc[ACS_alldata['mean usual hours worked male'].isnull()].index\n",
    "for i, indx in enumerate(null_indexes):\n",
    "    hours = ACS_alldata[ACS_alldata['state_name'] == ACS_alldata.loc[indx]['state_name']]['mean usual hours worked male'].median()\n",
    "    ACS_alldata.at[indx, 'mean usual hours worked male'] = hours   \n",
    "\n",
    "null_indexes = ACS_alldata.loc[ACS_alldata['mean usual hours worked female'].isnull()].index\n",
    "for i, indx in enumerate(null_indexes):\n",
    "    hours = ACS_alldata[ACS_alldata['state_name'] == ACS_alldata.loc[indx]['state_name']]['mean usual hours worked female'].median()\n",
    "    ACS_alldata.at[indx, 'mean usual hours worked female'] = hours \n",
    "    "
   ]
  },
  {
   "cell_type": "code",
   "execution_count": 56,
   "metadata": {},
   "outputs": [
    {
     "data": {
      "text/plain": [
       "0\n",
       "NAME                                                                                  0\n",
       "median age male                                                                       0\n",
       "median age female                                                                     0\n",
       "total travel time to work                                                             0\n",
       "travel time to work: less than 5 minutes                                              0\n",
       "travel time to work: 5 to 9 minutes                                                   0\n",
       "travel time to work: 10 to 14 minutes                                                 0\n",
       "travel time to work: 15 to 19 minutes                                                 0\n",
       "travel time to work: 20 to 24 minutes                                                 0\n",
       "travel time to work: 25 to 29 minutes                                                 0\n",
       "travel time to work: 30 to 34 minutes                                                 0\n",
       "travel time to work: 35 to 39 minutes                                                 0\n",
       "travel time to work: 40 to 44 minutes                                                 0\n",
       "travel time to work: 45 to 59 minutes                                                 0\n",
       "travel time to work: 60 to 89 minutes                                                 0\n",
       "travel time to work: 90 or more minutes                                               0\n",
       "own children under 18 years by family type and age                                    0\n",
       "total household type                                                                  0\n",
       "household type: married-couple family                                                 0\n",
       "household type: male householder, no wife present                                     0\n",
       "household type: female householder, no husband present                                0\n",
       "household type: householder living alone                                              0\n",
       "household type: householder not living alone                                          0\n",
       "total male over 15years                                                               0\n",
       "male never married                                                                    0\n",
       "male now married                                                                      0\n",
       "male widowed                                                                          0\n",
       "male divorced                                                                         0\n",
       "total female over 15 years                                                            0\n",
       "female never married                                                                  0\n",
       "female now married                                                                    0\n",
       "female widowed                                                                        0\n",
       "female divorced                                                                       0\n",
       "women who had a birth in the past 12 months                                           0\n",
       "male no schooling completed                                                           0\n",
       "male high school graduate (includes equivalency)                                      0\n",
       "male bachelor's degree                                                                0\n",
       "male master's degree                                                                  0\n",
       "male doctorate degree                                                                 0\n",
       "female no schooling completed                                                         0\n",
       "female high school graduate (includes equivalency)                                    0\n",
       "female bachelor's degree                                                              0\n",
       "female master's degree                                                                0\n",
       "female doctorate degree                                                               0\n",
       "total income in the past 12 months                                                    0\n",
       "total income in the past 12 months at or above poverty level                          0\n",
       "total income in the past 12 months below poverty level                                0\n",
       "median household income in the past 12 months (in 2018 inflation-adjusted dollars)    0\n",
       "total household in the past 12 months with/without public assist or stamps            0\n",
       "household with cash public assistance or food stamps/snap in the past year            0\n",
       "gini index                                                                            0\n",
       "per capita income in the past 12 months (in 2018 inflation-adjusted dollars)          0\n",
       "mean usual hours worked male                                                          0\n",
       "mean usual hours worked female                                                        0\n",
       "total employment status 16 and over                                                   0\n",
       "employed population 16 years and over                                                 0\n",
       "housing units                                                                         0\n",
       "housing tenure owner occupied                                                         0\n",
       "housing tenure renter occupied                                                        0\n",
       "median number of rooms                                                                0\n",
       "median contract rent                                                                  0\n",
       "median monthly housing costs                                                          0\n",
       "no household computer                                                                 0\n",
       "no household internet access                                                          0\n",
       "state_name                                                                            0\n",
       "county                                                                                0\n",
       "dtype: int64"
      ]
     },
     "execution_count": 56,
     "metadata": {},
     "output_type": "execute_result"
    }
   ],
   "source": [
    "ACS_alldata.isna().sum() #Check the number of NaNs in each column"
   ]
  },
  {
   "cell_type": "code",
   "execution_count": 58,
   "metadata": {},
   "outputs": [],
   "source": [
    "#Export resulting table to csv\n",
    "ACS_alldata.to_csv('DATA/ACS_alldata.csv')"
   ]
  },
  {
   "cell_type": "markdown",
   "metadata": {},
   "source": [
    "## WEATHER DATA"
   ]
  },
  {
   "cell_type": "markdown",
   "metadata": {},
   "source": [
    "### Web Scraping "
   ]
  },
  {
   "cell_type": "code",
   "execution_count": null,
   "metadata": {},
   "outputs": [],
   "source": [
    "#Import reference data to the notebook\n",
    "#This is the list of counties for the study\n",
    "county_selection = pd.read_csv(\"MENUISM3/county_selection.csv\")\n",
    "\n",
    "#create lists for loop\n",
    "county_name = list(county_selection['county'])\n",
    "state_name = list(county_selection['state_name'])\n",
    "len(state_name)\n",
    "\n",
    "webscr_county = county_name[787:823]\n",
    "webscr_state = state_name[787:823]"
   ]
  },
  {
   "cell_type": "code",
   "execution_count": null,
   "metadata": {},
   "outputs": [],
   "source": [
    "#     user_agent = \"Mozilla/5.0 (Macintosh; Intel Mac OS X 10_7_3) AppleWebKit/534.55.3 (KHTML, like Gecko) Version/5.1.3 Safari/534.53.10\"\n",
    "#     user_agent = 'Mozilla/5.0 (X11; Linux x86_64) AppleWebKit/537.36 (KHTML, like Gecko) Chrome/61.0.3163.79 Safari/537.36'\n",
    "#     user_agent = 'Mozilla/5.0 (X11; Ubuntu; Linux x86_64; rv:55.0) Gecko/20100101 Firefox/55.0'\n",
    "user_agent = 'Mozilla/5.0 (X11; Linux x86_64) AppleWebKit/537.36 (KHTML, like Gecko) Chrome/57.0.2987.110 Safari/537.36'"
   ]
  },
  {
   "cell_type": "code",
   "execution_count": null,
   "metadata": {},
   "outputs": [],
   "source": [
    "randomtimes = [0.5, 0.75] #these are seconds for the sleep method\n",
    "df = pd.DataFrame(columns=['county', 'state_name', 'month', 'high/low', 'rain']) #initialize dataframe\n",
    "for j,zipi in enumerate(webscr_county):\n",
    "    county = webscr_county[j].replace(' ', '%20')\n",
    "    state = webscr_state[j] .replace(' ', '%20')\n",
    "    url = \"https://www.google.com/search?q=Average+monthly+temperature+\" + county + \"+county+\" + state\n",
    "    user_agent =  'Mozilla/5.0 (X11; Ubuntu; Linux x86_64; rv:55.0) Gecko/20100101 Firefox/55.0'\n",
    "    request = urllib.request.Request(url,headers={'User-Agent': user_agent})\n",
    "    page = urllib.request.urlopen(request)\n",
    "    soup = BeautifulSoup(page, 'html.parser')\n",
    "    month = soup.find_all(\"span\", {\"role\":\"gridcell\"})\n",
    "    print(j)\n",
    "\n",
    "    i = 0\n",
    "    while i < len(month):\n",
    "        txtmonth = month[i].text\n",
    "        txttemp = month[i+1].text\n",
    "        txtrain = month[i+2].text\n",
    "        dctionary = {'county': [webscr_county[j]],'state_name': [webscr_state[j]],'month':[txtmonth],'high/low':[txttemp], 'rain':[txtrain]}\n",
    "        df = pd.concat([df,pd.DataFrame(dctionary)], ignore_index=True, sort=False)\n",
    "        i = i + 3"
   ]
  },
  {
   "cell_type": "code",
   "execution_count": null,
   "metadata": {},
   "outputs": [],
   "source": [
    "df.to_csv('DATA/temperaturedata.csv')"
   ]
  },
  {
   "cell_type": "markdown",
   "metadata": {},
   "source": [
    "Data Cleanning"
   ]
  },
  {
   "cell_type": "code",
   "execution_count": null,
   "metadata": {},
   "outputs": [],
   "source": [
    "#import web scrapped data\n",
    "temperature_data = pd.read_csv(\"DATA/temperaturedata.csv\")\n",
    "temperature_data.drop(labels=['Unnamed: 0', 'Unnamed: 0.1'], inplace=True, axis=1) #drop unnecessary columns\n",
    "temperature_data.drop_duplicates(keep='first', inplace=True) #drop duplicate rows"
   ]
  },
  {
   "cell_type": "code",
   "execution_count": null,
   "metadata": {},
   "outputs": [],
   "source": [
    "#check if any county does not have 12 months\n",
    "month_check = temperature_data.groupby(['county', 'state_name'], as_index=False)['month'].count()\n",
    "month_check.rename(columns={'month':'month_count'}, inplace=True)\n",
    "\n",
    "month_check.loc[month_check['month_count'] != 12]"
   ]
  },
  {
   "cell_type": "code",
   "execution_count": null,
   "metadata": {},
   "outputs": [],
   "source": [
    "#inspect the counties with differences \n",
    "temperature_data.loc[temperature_data['county'] == 'Chelan']\n",
    "temperature_data.loc[temperature_data['county'] == 'Terrebonne']"
   ]
  },
  {
   "cell_type": "code",
   "execution_count": null,
   "metadata": {},
   "outputs": [],
   "source": [
    "#drop data after inspection\n",
    "drop_rows = temperature_data.loc[temperature_data['county'].isin(['Chelan', 'Terrebonne'])]\n",
    "temperature_data = temperature_data.drop(drop_rows.index)"
   ]
  },
  {
   "cell_type": "code",
   "execution_count": null,
   "metadata": {},
   "outputs": [],
   "source": [
    "#Check if I have all the info for the seleted counties\n",
    "keys = ['county', 'state_name']\n",
    "i1 = month_check.set_index(keys).index\n",
    "i2 = county_selection.set_index(keys).index\n",
    "missing = county_selection[~i2.isin(i1)]\n",
    "\n",
    "missing"
   ]
  },
  {
   "cell_type": "code",
   "execution_count": null,
   "metadata": {},
   "outputs": [],
   "source": [
    "#split temperature in high/low\n",
    "temp = temperature_data['high/low'].str.split('/', expand=True)\n",
    "temperature_data['highCelsius'] = temp[0] \n",
    "temperature_data['lowCelsius'] = temp[1]\n",
    "\n",
    "#remove the degree sign from temperature\n",
    "temperature_data['highCelsius'] = temperature_data.apply(lambda x: x['highCelsius'].strip(), axis=1)\n",
    "temperature_data['lowCelsius'] = temperature_data.apply(lambda x: x['lowCelsius'].strip(), axis=1)\n",
    "\n",
    "temperature_data['highCelsius'] = temperature_data.apply(lambda x: x['highCelsius'][:-1], axis=1)\n",
    "temperature_data['lowCelsius'] = temperature_data.apply(lambda x: x['lowCelsius'][:-1], axis=1)\n",
    "\n",
    "#remove 'dias' word from rain days\n",
    "temperature_data['rain'] = temperature_data.apply(lambda x: x['rain'].strip(), axis=1)\n",
    "temperature_data['rain'] = temperature_data.apply(lambda x: x['rain'][:-5], axis=1)\n",
    "temperature_data.rename(columns={'rain': \"days_of_rain\"}, inplace=True)\n",
    "\n",
    "#remove columns\n",
    "temperature_data.drop(labels=['high/low'], inplace=True, axis=1)"
   ]
  },
  {
   "cell_type": "code",
   "execution_count": null,
   "metadata": {},
   "outputs": [],
   "source": [
    "temperature_data['month'].replace({\"enero\": \"January\", \"febrero\": \"February\", \"marzo\": \"March\", \"abril\": \"April\", \"mayo\": \"May\", \"junio\": \"June\", \"julio\": \"July\", \"agosto\": \"August\", \"setiembre\": \"September\", \"octubre\": \"October\", \"noviembre\": \"November\", \"diciembre\": \"December\"}, inplace=True)"
   ]
  },
  {
   "cell_type": "code",
   "execution_count": null,
   "metadata": {},
   "outputs": [],
   "source": [
    "#export data to folder\n",
    "temperature_data.to_csv(\"DATA\\Rain&Temperaturedata.csv\")"
   ]
  }
 ],
 "metadata": {
  "kernelspec": {
   "display_name": "Python 3",
   "language": "python",
   "name": "python3"
  },
  "language_info": {
   "codemirror_mode": {
    "name": "ipython",
    "version": 3
   },
   "file_extension": ".py",
   "mimetype": "text/x-python",
   "name": "python",
   "nbconvert_exporter": "python",
   "pygments_lexer": "ipython3",
   "version": "3.7.3"
  },
  "toc": {
   "base_numbering": 1,
   "nav_menu": {},
   "number_sections": true,
   "sideBar": true,
   "skip_h1_title": false,
   "title_cell": "Table of Contents",
   "title_sidebar": "Contents",
   "toc_cell": false,
   "toc_position": {},
   "toc_section_display": true,
   "toc_window_display": true
  }
 },
 "nbformat": 4,
 "nbformat_minor": 2
}
